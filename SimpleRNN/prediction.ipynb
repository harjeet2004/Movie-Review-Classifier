{
 "cells": [
  {
   "cell_type": "code",
   "execution_count": 1,
   "id": "6737bbfc",
   "metadata": {},
   "outputs": [],
   "source": [
    "import numpy as np\n",
    "import tensorflow as tf\n",
    "from tensorflow.keras.datasets import imdb  ## Preloaded dataset in keras\n",
    "from tensorflow.keras.preprocessing import sequence\n",
    "from tensorflow.keras.models import load_model\n"
   ]
  },
  {
   "cell_type": "code",
   "execution_count": 2,
   "id": "9b8c2cfb",
   "metadata": {},
   "outputs": [],
   "source": [
    "word_index=imdb.get_word_index() ## Dictionary with the words as keys and the corresponding one-hot encoded indices as values\n",
    "word_index\n",
    "rev_keyval={value:key for key,value in word_index.items()}"
   ]
  },
  {
   "cell_type": "code",
   "execution_count": 3,
   "id": "d0bca4ce",
   "metadata": {},
   "outputs": [
    {
     "name": "stderr",
     "output_type": "stream",
     "text": [
      "WARNING:absl:Compiled the loaded model, but the compiled metrics have yet to be built. `model.compile_metrics` will be empty until you train or evaluate the model.\n"
     ]
    },
    {
     "data": {
      "text/html": [
       "<pre style=\"white-space:pre;overflow-x:auto;line-height:normal;font-family:Menlo,'DejaVu Sans Mono',consolas,'Courier New',monospace\"><span style=\"font-weight: bold\">Model: \"sequential_5\"</span>\n",
       "</pre>\n"
      ],
      "text/plain": [
       "\u001b[1mModel: \"sequential_5\"\u001b[0m\n"
      ]
     },
     "metadata": {},
     "output_type": "display_data"
    },
    {
     "data": {
      "text/html": [
       "<pre style=\"white-space:pre;overflow-x:auto;line-height:normal;font-family:Menlo,'DejaVu Sans Mono',consolas,'Courier New',monospace\">┏━━━━━━━━━━━━━━━━━━━━━━━━━━━━━━━━━┳━━━━━━━━━━━━━━━━━━━━━━━━┳━━━━━━━━━━━━━━━┓\n",
       "┃<span style=\"font-weight: bold\"> Layer (type)                    </span>┃<span style=\"font-weight: bold\"> Output Shape           </span>┃<span style=\"font-weight: bold\">       Param # </span>┃\n",
       "┡━━━━━━━━━━━━━━━━━━━━━━━━━━━━━━━━━╇━━━━━━━━━━━━━━━━━━━━━━━━╇━━━━━━━━━━━━━━━┩\n",
       "│ embedding_4 (<span style=\"color: #0087ff; text-decoration-color: #0087ff\">Embedding</span>)         │ (<span style=\"color: #00d7ff; text-decoration-color: #00d7ff\">None</span>, <span style=\"color: #00af00; text-decoration-color: #00af00\">500</span>, <span style=\"color: #00af00; text-decoration-color: #00af00\">128</span>)       │     <span style=\"color: #00af00; text-decoration-color: #00af00\">1,280,000</span> │\n",
       "├─────────────────────────────────┼────────────────────────┼───────────────┤\n",
       "│ simple_rnn_4 (<span style=\"color: #0087ff; text-decoration-color: #0087ff\">SimpleRNN</span>)        │ (<span style=\"color: #00d7ff; text-decoration-color: #00d7ff\">None</span>, <span style=\"color: #00af00; text-decoration-color: #00af00\">128</span>)            │        <span style=\"color: #00af00; text-decoration-color: #00af00\">32,896</span> │\n",
       "├─────────────────────────────────┼────────────────────────┼───────────────┤\n",
       "│ dense_4 (<span style=\"color: #0087ff; text-decoration-color: #0087ff\">Dense</span>)                 │ (<span style=\"color: #00d7ff; text-decoration-color: #00d7ff\">None</span>, <span style=\"color: #00af00; text-decoration-color: #00af00\">1</span>)              │           <span style=\"color: #00af00; text-decoration-color: #00af00\">129</span> │\n",
       "└─────────────────────────────────┴────────────────────────┴───────────────┘\n",
       "</pre>\n"
      ],
      "text/plain": [
       "┏━━━━━━━━━━━━━━━━━━━━━━━━━━━━━━━━━┳━━━━━━━━━━━━━━━━━━━━━━━━┳━━━━━━━━━━━━━━━┓\n",
       "┃\u001b[1m \u001b[0m\u001b[1mLayer (type)                   \u001b[0m\u001b[1m \u001b[0m┃\u001b[1m \u001b[0m\u001b[1mOutput Shape          \u001b[0m\u001b[1m \u001b[0m┃\u001b[1m \u001b[0m\u001b[1m      Param #\u001b[0m\u001b[1m \u001b[0m┃\n",
       "┡━━━━━━━━━━━━━━━━━━━━━━━━━━━━━━━━━╇━━━━━━━━━━━━━━━━━━━━━━━━╇━━━━━━━━━━━━━━━┩\n",
       "│ embedding_4 (\u001b[38;5;33mEmbedding\u001b[0m)         │ (\u001b[38;5;45mNone\u001b[0m, \u001b[38;5;34m500\u001b[0m, \u001b[38;5;34m128\u001b[0m)       │     \u001b[38;5;34m1,280,000\u001b[0m │\n",
       "├─────────────────────────────────┼────────────────────────┼───────────────┤\n",
       "│ simple_rnn_4 (\u001b[38;5;33mSimpleRNN\u001b[0m)        │ (\u001b[38;5;45mNone\u001b[0m, \u001b[38;5;34m128\u001b[0m)            │        \u001b[38;5;34m32,896\u001b[0m │\n",
       "├─────────────────────────────────┼────────────────────────┼───────────────┤\n",
       "│ dense_4 (\u001b[38;5;33mDense\u001b[0m)                 │ (\u001b[38;5;45mNone\u001b[0m, \u001b[38;5;34m1\u001b[0m)              │           \u001b[38;5;34m129\u001b[0m │\n",
       "└─────────────────────────────────┴────────────────────────┴───────────────┘\n"
      ]
     },
     "metadata": {},
     "output_type": "display_data"
    },
    {
     "data": {
      "text/html": [
       "<pre style=\"white-space:pre;overflow-x:auto;line-height:normal;font-family:Menlo,'DejaVu Sans Mono',consolas,'Courier New',monospace\"><span style=\"font-weight: bold\"> Total params: </span><span style=\"color: #00af00; text-decoration-color: #00af00\">1,313,027</span> (5.01 MB)\n",
       "</pre>\n"
      ],
      "text/plain": [
       "\u001b[1m Total params: \u001b[0m\u001b[38;5;34m1,313,027\u001b[0m (5.01 MB)\n"
      ]
     },
     "metadata": {},
     "output_type": "display_data"
    },
    {
     "data": {
      "text/html": [
       "<pre style=\"white-space:pre;overflow-x:auto;line-height:normal;font-family:Menlo,'DejaVu Sans Mono',consolas,'Courier New',monospace\"><span style=\"font-weight: bold\"> Trainable params: </span><span style=\"color: #00af00; text-decoration-color: #00af00\">1,313,025</span> (5.01 MB)\n",
       "</pre>\n"
      ],
      "text/plain": [
       "\u001b[1m Trainable params: \u001b[0m\u001b[38;5;34m1,313,025\u001b[0m (5.01 MB)\n"
      ]
     },
     "metadata": {},
     "output_type": "display_data"
    },
    {
     "data": {
      "text/html": [
       "<pre style=\"white-space:pre;overflow-x:auto;line-height:normal;font-family:Menlo,'DejaVu Sans Mono',consolas,'Courier New',monospace\"><span style=\"font-weight: bold\"> Non-trainable params: </span><span style=\"color: #00af00; text-decoration-color: #00af00\">0</span> (0.00 B)\n",
       "</pre>\n"
      ],
      "text/plain": [
       "\u001b[1m Non-trainable params: \u001b[0m\u001b[38;5;34m0\u001b[0m (0.00 B)\n"
      ]
     },
     "metadata": {},
     "output_type": "display_data"
    },
    {
     "data": {
      "text/html": [
       "<pre style=\"white-space:pre;overflow-x:auto;line-height:normal;font-family:Menlo,'DejaVu Sans Mono',consolas,'Courier New',monospace\"><span style=\"font-weight: bold\"> Optimizer params: </span><span style=\"color: #00af00; text-decoration-color: #00af00\">2</span> (12.00 B)\n",
       "</pre>\n"
      ],
      "text/plain": [
       "\u001b[1m Optimizer params: \u001b[0m\u001b[38;5;34m2\u001b[0m (12.00 B)\n"
      ]
     },
     "metadata": {},
     "output_type": "display_data"
    }
   ],
   "source": [
    "model=load_model('simple_rnn_imdb.h5')\n",
    "model.summary()"
   ]
  },
  {
   "cell_type": "code",
   "execution_count": 4,
   "id": "de616590",
   "metadata": {},
   "outputs": [
    {
     "data": {
      "text/plain": [
       "[array([[-0.12524994, -0.04188933,  0.41708514, ...,  0.1626418 ,\n",
       "         -0.46420884, -0.47645944],\n",
       "        [-0.00599103, -0.02858121,  0.02579241, ...,  0.00198766,\n",
       "          0.05796218, -0.00167121],\n",
       "        [ 0.00289431,  0.08114494,  0.03157181, ...,  0.04527317,\n",
       "         -0.07705634,  0.01563216],\n",
       "        ...,\n",
       "        [-0.0192723 , -0.0453442 ,  0.03562754, ..., -0.05548868,\n",
       "          0.03581031, -0.03707061],\n",
       "        [ 0.01329407,  0.02799908,  0.02714697, ..., -0.05190631,\n",
       "         -0.12977153, -0.03568354],\n",
       "        [-0.13583264, -0.08374428,  0.07257245, ..., -0.01684491,\n",
       "          0.10556005,  0.15735564]], shape=(10000, 128), dtype=float32),\n",
       " array([[-8.69439468e-02,  7.79515356e-02, -1.28100738e-01, ...,\n",
       "         -4.97887954e-02,  1.01028726e-01, -9.00678411e-02],\n",
       "        [-1.13259271e-01,  2.60152332e-02, -1.45949095e-01, ...,\n",
       "         -4.36700732e-02,  1.40518183e-02,  2.87930910e-02],\n",
       "        [-9.21980366e-02,  1.47219792e-01, -1.04888938e-01, ...,\n",
       "          5.41835129e-02,  1.32310932e-04,  8.51537809e-02],\n",
       "        ...,\n",
       "        [ 5.97381070e-02, -1.04383439e-01,  6.33843169e-02, ...,\n",
       "         -8.00072551e-02,  1.70047894e-01,  2.68635824e-02],\n",
       "        [-3.73263545e-02,  4.62200530e-02,  4.05992828e-02, ...,\n",
       "         -1.15429543e-01, -8.80425498e-02, -5.81677705e-02],\n",
       "        [ 9.39708576e-02,  1.16010889e-01,  1.42718926e-01, ...,\n",
       "         -1.12622991e-01, -3.07797268e-02,  7.34291226e-02]],\n",
       "       shape=(128, 128), dtype=float32),\n",
       " array([[ 9.6574508e-02, -2.8505895e-02, -8.1628166e-02, ...,\n",
       "         -2.4531801e-01,  9.2440538e-02,  7.1852114e-03],\n",
       "        [ 7.8353018e-02,  6.0003608e-02,  2.0584476e-01, ...,\n",
       "          2.0882895e-02, -7.3192030e-02, -8.3307590e-04],\n",
       "        [-7.0982285e-02, -8.9823551e-02, -9.5041946e-02, ...,\n",
       "          1.4770032e-04,  5.9649270e-02, -3.6396120e-02],\n",
       "        ...,\n",
       "        [ 3.2227024e-02, -8.2246885e-03, -7.5059451e-02, ...,\n",
       "         -3.3775739e-02, -1.7238409e-03,  7.1811192e-02],\n",
       "        [ 4.7375984e-02,  7.0506968e-02, -4.1556012e-02, ...,\n",
       "         -1.3025743e-01,  1.5013381e-02,  2.2673553e-03],\n",
       "        [-6.9774635e-02,  1.6281082e-01,  1.8092422e-02, ...,\n",
       "         -6.5911785e-02, -9.9821150e-02, -2.9521214e-03]],\n",
       "       shape=(128, 128), dtype=float32),\n",
       " array([-0.00173457, -0.00491439, -0.00397209, -0.01715259, -0.03227239,\n",
       "        -0.01638863, -0.01350224,  0.00933386, -0.02863955,  0.00808718,\n",
       "         0.02465852,  0.00803756, -0.00724315,  0.00941844, -0.00671313,\n",
       "        -0.01260842,  0.01240733,  0.00018606, -0.01541821,  0.00285517,\n",
       "        -0.02523983, -0.00738005, -0.00410065,  0.00738148, -0.03157103,\n",
       "        -0.01389248,  0.03107658,  0.03126583, -0.02247149, -0.00115782,\n",
       "        -0.00622885,  0.00563171, -0.01999274, -0.0147029 , -0.0209724 ,\n",
       "        -0.00642875,  0.03382614, -0.03777835, -0.01428604, -0.01350247,\n",
       "        -0.02023573, -0.00451291, -0.01060831, -0.01219733, -0.01178519,\n",
       "        -0.03618488, -0.00897612,  0.0017507 ,  0.00220624, -0.02730274,\n",
       "        -0.0328293 , -0.00580625, -0.01493023, -0.03093736, -0.0244883 ,\n",
       "         0.01306431, -0.00964373, -0.0072452 , -0.06770853, -0.01312135,\n",
       "         0.03381824, -0.01632878, -0.01056302, -0.00901933, -0.01151503,\n",
       "        -0.01746207, -0.01053485, -0.03251518,  0.00405242, -0.01731004,\n",
       "        -0.00506563,  0.00799239, -0.02338176, -0.02342349,  0.02122015,\n",
       "        -0.05760865, -0.01920173,  0.01078796, -0.01125269, -0.01432427,\n",
       "        -0.02147693, -0.01385749, -0.00666192, -0.0294525 , -0.01453374,\n",
       "        -0.00778899, -0.02160487, -0.00768995, -0.01292269,  0.02426878,\n",
       "         0.00203986, -0.01288352,  0.01261954, -0.01629918, -0.00937471,\n",
       "        -0.01460533, -0.00062643,  0.00442602, -0.00424132, -0.02220687,\n",
       "         0.00824122, -0.03584755, -0.00896751, -0.01429456, -0.00659296,\n",
       "        -0.01044712, -0.0115765 , -0.01869708, -0.01287958,  0.04595535,\n",
       "        -0.00691384, -0.01793404, -0.02265079, -0.01447588, -0.01548136,\n",
       "        -0.01042329, -0.0592663 ,  0.00362549, -0.00551094,  0.03168127,\n",
       "        -0.00204518, -0.02122278, -0.01281583, -0.04264871, -0.00468329,\n",
       "        -0.00650807,  0.00542984,  0.00714708], dtype=float32),\n",
       " array([[-0.09298227],\n",
       "        [-0.19448309],\n",
       "        [ 0.7004776 ],\n",
       "        [-0.18889603],\n",
       "        [ 0.11407031],\n",
       "        [ 0.27804026],\n",
       "        [-0.18213914],\n",
       "        [-0.08327734],\n",
       "        [ 0.5390138 ],\n",
       "        [-0.04909256],\n",
       "        [ 0.21539463],\n",
       "        [-0.02946624],\n",
       "        [ 0.01403409],\n",
       "        [ 0.06847432],\n",
       "        [-0.14034627],\n",
       "        [-0.19464125],\n",
       "        [ 0.15431742],\n",
       "        [ 0.09471318],\n",
       "        [ 0.06625952],\n",
       "        [-0.09644168],\n",
       "        [ 0.85883474],\n",
       "        [-0.19658509],\n",
       "        [ 0.16112016],\n",
       "        [-0.1999889 ],\n",
       "        [-0.83493286],\n",
       "        [-0.04121573],\n",
       "        [ 0.10639342],\n",
       "        [-0.12749703],\n",
       "        [ 0.20593198],\n",
       "        [ 0.13070963],\n",
       "        [-0.15121481],\n",
       "        [-0.02306229],\n",
       "        [ 0.15880711],\n",
       "        [-0.11217753],\n",
       "        [-0.46056056],\n",
       "        [-0.21377902],\n",
       "        [-0.13122725],\n",
       "        [ 0.62140447],\n",
       "        [-0.04164473],\n",
       "        [-0.17604706],\n",
       "        [ 0.2028331 ],\n",
       "        [-0.02711971],\n",
       "        [ 0.13685152],\n",
       "        [ 0.09103603],\n",
       "        [-0.19298965],\n",
       "        [ 0.4465083 ],\n",
       "        [-0.20797259],\n",
       "        [ 0.01306862],\n",
       "        [ 0.21944965],\n",
       "        [-0.08451769],\n",
       "        [ 0.04987228],\n",
       "        [-0.01672214],\n",
       "        [-0.1252146 ],\n",
       "        [ 0.01434078],\n",
       "        [-0.00280133],\n",
       "        [-0.21262942],\n",
       "        [-0.0293426 ],\n",
       "        [ 0.04026695],\n",
       "        [ 0.15768732],\n",
       "        [ 0.07711026],\n",
       "        [ 0.20376565],\n",
       "        [ 0.05987854],\n",
       "        [ 0.04995392],\n",
       "        [ 0.13315348],\n",
       "        [ 0.20240912],\n",
       "        [-0.00412141],\n",
       "        [ 0.08384018],\n",
       "        [-0.24204925],\n",
       "        [-0.14182071],\n",
       "        [-0.24479851],\n",
       "        [-0.11245421],\n",
       "        [ 0.53120303],\n",
       "        [-0.46198434],\n",
       "        [-0.09822451],\n",
       "        [ 0.22758047],\n",
       "        [ 0.27847436],\n",
       "        [ 0.12439663],\n",
       "        [ 0.17163762],\n",
       "        [-0.18282552],\n",
       "        [-0.15623626],\n",
       "        [-0.12850863],\n",
       "        [-0.09020938],\n",
       "        [-0.05425691],\n",
       "        [-0.05686641],\n",
       "        [ 0.23862891],\n",
       "        [ 0.09940994],\n",
       "        [ 0.12437265],\n",
       "        [ 0.1435207 ],\n",
       "        [ 0.13298264],\n",
       "        [ 0.15947497],\n",
       "        [-0.22515018],\n",
       "        [-0.07176235],\n",
       "        [-0.17618851],\n",
       "        [-0.12629786],\n",
       "        [-0.10651739],\n",
       "        [-0.12540998],\n",
       "        [ 0.9627637 ],\n",
       "        [ 0.07934206],\n",
       "        [-0.00837558],\n",
       "        [-0.10629015],\n",
       "        [ 0.74297893],\n",
       "        [ 0.05005186],\n",
       "        [-0.22314881],\n",
       "        [ 0.10837075],\n",
       "        [-0.22045755],\n",
       "        [ 0.03784337],\n",
       "        [ 0.08806252],\n",
       "        [-0.14726663],\n",
       "        [ 0.15395868],\n",
       "        [ 0.21644105],\n",
       "        [-0.26413217],\n",
       "        [-0.21584192],\n",
       "        [-1.1013442 ],\n",
       "        [ 0.22661082],\n",
       "        [ 0.20803837],\n",
       "        [-0.14900455],\n",
       "        [-0.00690717],\n",
       "        [-0.04723296],\n",
       "        [ 0.11863166],\n",
       "        [ 0.21364842],\n",
       "        [-0.5468784 ],\n",
       "        [ 0.04774525],\n",
       "        [-0.12921798],\n",
       "        [-0.38160866],\n",
       "        [ 0.09826364],\n",
       "        [-0.10841221],\n",
       "        [-0.05533315],\n",
       "        [ 0.5575469 ]], dtype=float32),\n",
       " array([1.6106081], dtype=float32)]"
      ]
     },
     "execution_count": 4,
     "metadata": {},
     "output_type": "execute_result"
    }
   ],
   "source": [
    "model.get_weights()"
   ]
  },
  {
   "cell_type": "code",
   "execution_count": 5,
   "id": "f4117bc3",
   "metadata": {},
   "outputs": [],
   "source": [
    "# Function to decode reviews (numbers → words)\n",
    "def decode_review(encoded_review):\n",
    "    # IMDB dataset quirk:\n",
    "    # - In the actual training data, words are stored with an offset of +3\n",
    "    #   because 0,1,2 are reserved (0=padding, 1=start, 2=unknown).\n",
    "    # - Example: word_index says \"good\"=3, but in the encoded review it's stored as 6.\n",
    "    #\n",
    "    # So when decoding back to words, we subtract 3 to undo that offset\n",
    "    # and look up the real word in the reverse dictionary (rev_keyval).\n",
    "    # If the word isn't found, we put '?' as a placeholder.\n",
    "    return ' '.join(rev_keyval.get(i-3, '?') for i in encoded_review)\n",
    "\n",
    "\n",
    "# Function to preprocess user input (words → numbers)\n",
    "def preprocess_text(text):\n",
    "    # Step 1: Make the text lowercase and split into individual words\n",
    "    words = text.lower().split()\n",
    "    \n",
    "    # Step 2: Convert each word into its numeric ID\n",
    "    # - word_index gives the base ID (e.g., \"good\"=3).\n",
    "    # - If the word isn't found, default to 2 (UNKNOWN token).\n",
    "    # - Then add +3 to align with IMDB's stored format\n",
    "    #   (since 0,1,2 are reserved).\n",
    "    encoded_review = [word_index.get(word, 2) + 3 for word in words]\n",
    "    \n",
    "    # Step 3: Pad or truncate the list of numbers to a fixed length (500 tokens)\n",
    "    # - Neural networks need inputs of the same size\n",
    "    padded_review = sequence.pad_sequences([encoded_review], maxlen=500)\n",
    "    \n",
    "    # Step 4: Return the padded numeric sequence (ready for model prediction)\n",
    "    return padded_review\n"
   ]
  },
  {
   "cell_type": "code",
   "execution_count": 7,
   "id": "e8cd4b12",
   "metadata": {},
   "outputs": [],
   "source": [
    "## Prediction function\n",
    "\n",
    "def pred_sent(review):\n",
    "    preprocessed_input=preprocess_text(review)\n",
    "    prediction=model.predict(preprocessed_input)\n",
    "    sentiment='positive' if prediction[0][0]>0.5 else 'Negative'\n",
    "    return sentiment,prediction[0][0]"
   ]
  },
  {
   "cell_type": "code",
   "execution_count": 14,
   "id": "51f2fe72",
   "metadata": {},
   "outputs": [
    {
     "name": "stdout",
     "output_type": "stream",
     "text": [
      "\u001b[1m1/1\u001b[0m \u001b[32m━━━━━━━━━━━━━━━━━━━━\u001b[0m\u001b[37m\u001b[0m \u001b[1m0s\u001b[0m 36ms/step\n",
      "Review: This movie was worse\n",
      "Sentiment: Negative\n",
      "Prediction Score: 0.4533403217792511\n"
     ]
    }
   ],
   "source": [
    "## Step 4: User Input and Prediction\n",
    "## Example review for prediction\n",
    "\n",
    "example='This movie was worse'\n",
    "\n",
    "sentiment,score=pred_sent(example)\n",
    "print(f'Review: {example}')\n",
    "print(f'Sentiment: {sentiment}')\n",
    "print(f'Prediction Score: {score}')"
   ]
  }
 ],
 "metadata": {
  "kernelspec": {
   "display_name": "myenv",
   "language": "python",
   "name": "python3"
  },
  "language_info": {
   "codemirror_mode": {
    "name": "ipython",
    "version": 3
   },
   "file_extension": ".py",
   "mimetype": "text/x-python",
   "name": "python",
   "nbconvert_exporter": "python",
   "pygments_lexer": "ipython3",
   "version": "3.10.18"
  }
 },
 "nbformat": 4,
 "nbformat_minor": 5
}
